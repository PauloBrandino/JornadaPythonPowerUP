{
 "cells": [
  {
   "cell_type": "code",
   "execution_count": null,
   "metadata": {},
   "outputs": [],
   "source": [
    "!pip install pandas scikit-learn"
   ]
  },
  {
   "cell_type": "code",
   "execution_count": null,
   "metadata": {},
   "outputs": [],
   "source": [
    "#Passo 1 - Importar a base de dados\n",
    "\n",
    "import pandas as pd\n",
    "\n",
    "table = pd.read_csv('clientes.csv')\n",
    "display(table)"
   ]
  },
  {
   "cell_type": "code",
   "execution_count": null,
   "metadata": {},
   "outputs": [],
   "source": [
    "# Passo 2 - Tratamento dos dados\n",
    "# Label Encoder:\n",
    "from sklearn.preprocessing import LabelEncoder\n",
    "\n",
    "# profissao:\n",
    "# cientista = 1\n",
    "# bombeiro = 2\n",
    "# engenheiro = 3\n",
    "# dentista = 4\n",
    "# artista = 5\n",
    "\n",
    "codificador_profissao = LabelEncoder()\n",
    "table['profissao'] = codificador_profissao.fit_transform(table['profissao'])\n",
    "\n",
    "# mix_creditos:\n",
    "\n",
    "codificador_creditos = LabelEncoder()\n",
    "table['mix_credito'] = codificador_creditos.fit_transform(table['mix_credito'])\n",
    "\n",
    "# comportamento_pagamento:\n",
    "\n",
    "codificador_pagamento = LabelEncoder()\n",
    "table['comportamento_pagamento'] = codificador_pagamento.fit_transform(table['comportamento_pagamento'])\n",
    "\n",
    "\n",
    "display(table.info())"
   ]
  },
  {
   "cell_type": "code",
   "execution_count": null,
   "metadata": {},
   "outputs": [],
   "source": [
    "# Passo 3 - Preparação dos dados para o treino\n",
    "# y -> Coluna da base que quero prever\n",
    "y = table['score_credito']\n",
    "# x -> Colunas que serão usadas para prever o y\n",
    "x = table.drop(columns=['score_credito', 'id_cliente'])\n",
    "\n",
    "# Separa os dados em treino e teste\n",
    "from sklearn.model_selection import train_test_split\n",
    "x_treino, x_teste, y_treino, y_teste = train_test_split(x, y, test_size=0.3)"
   ]
  },
  {
   "cell_type": "code",
   "execution_count": 9,
   "metadata": {},
   "outputs": [],
   "source": [
    "# Passo 4 - Criação do modelo para o treinamento \n",
    "# Cria o modelo: Nota de crédito: Boa, Ok, Rium\n",
    "# Importa a IA\n",
    "# Cria a IA\n",
    "# Treina a IA\n"
   ]
  },
  {
   "cell_type": "code",
   "execution_count": null,
   "metadata": {},
   "outputs": [],
   "source": []
  }
 ],
 "metadata": {
  "kernelspec": {
   "display_name": "Python 3",
   "language": "python",
   "name": "python3"
  },
  "language_info": {
   "codemirror_mode": {
    "name": "ipython",
    "version": 3
   },
   "file_extension": ".py",
   "mimetype": "text/x-python",
   "name": "python",
   "nbconvert_exporter": "python",
   "pygments_lexer": "ipython3",
   "version": "3.13.1"
  }
 },
 "nbformat": 4,
 "nbformat_minor": 2
}
